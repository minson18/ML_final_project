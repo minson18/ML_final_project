{
  "cells": [
    {
      "cell_type": "markdown",
      "metadata": {
        "id": "view-in-github",
        "colab_type": "text"
      },
      "source": [
        "<a href=\"https://colab.research.google.com/github/minson18/ML_final_project/blob/main/final_project.ipynb\" target=\"_parent\"><img src=\"https://colab.research.google.com/assets/colab-badge.svg\" alt=\"Open In Colab\"/></a>"
      ]
    },
    {
      "cell_type": "markdown",
      "metadata": {
        "id": "yit2HJj-2h4u"
      },
      "source": [
        "OverBoostClassifier(n_estimators=100, learning_rate= 0.075, random_state=25) => 0.58977\n"
      ]
    },
    {
      "cell_type": "markdown",
      "metadata": {
        "id": "Gj7qT9QlGGgn"
      },
      "source": [
        "RUSBoostClassifier(base_estimator=DecisionTreeClassifier(max_depth=1), n_estimators=100, learning_rate= 0.051, random_state=89) \n",
        "=> 0.59044"
      ]
    },
    {
      "cell_type": "markdown",
      "metadata": {
        "id": "neFCxQljLQ1n"
      },
      "source": [
        "XGBClassifier(n_estimators=110, learning_rate=0.071, random_state=0, max_depth=1, gamma=0, subsample=0.6, colsample_bytree=1) => 0.59014"
      ]
    },
    {
      "cell_type": "code",
      "execution_count": null,
      "metadata": {
        "id": "wAGMxNjPeOQV"
      },
      "outputs": [],
      "source": [
        "pip install imbalanced-ensemble"
      ]
    },
    {
      "cell_type": "code",
      "execution_count": null,
      "metadata": {
        "colab": {
          "base_uri": "https://localhost:8080/",
          "height": 92
        },
        "id": "fBC72BXj1pso",
        "outputId": "25e60eea-183f-4b3d-d6b7-72d8d911e416"
      },
      "outputs": [
        {
          "data": {
            "text/html": [
              "\n",
              "     <input type=\"file\" id=\"files-52717d05-18b3-4e50-a1db-4beeefb6f929\" name=\"files[]\" multiple disabled\n",
              "        style=\"border:none\" />\n",
              "     <output id=\"result-52717d05-18b3-4e50-a1db-4beeefb6f929\">\n",
              "      Upload widget is only available when the cell has been executed in the\n",
              "      current browser session. Please rerun this cell to enable.\n",
              "      </output>\n",
              "      <script>// Copyright 2017 Google LLC\n",
              "//\n",
              "// Licensed under the Apache License, Version 2.0 (the \"License\");\n",
              "// you may not use this file except in compliance with the License.\n",
              "// You may obtain a copy of the License at\n",
              "//\n",
              "//      http://www.apache.org/licenses/LICENSE-2.0\n",
              "//\n",
              "// Unless required by applicable law or agreed to in writing, software\n",
              "// distributed under the License is distributed on an \"AS IS\" BASIS,\n",
              "// WITHOUT WARRANTIES OR CONDITIONS OF ANY KIND, either express or implied.\n",
              "// See the License for the specific language governing permissions and\n",
              "// limitations under the License.\n",
              "\n",
              "/**\n",
              " * @fileoverview Helpers for google.colab Python module.\n",
              " */\n",
              "(function(scope) {\n",
              "function span(text, styleAttributes = {}) {\n",
              "  const element = document.createElement('span');\n",
              "  element.textContent = text;\n",
              "  for (const key of Object.keys(styleAttributes)) {\n",
              "    element.style[key] = styleAttributes[key];\n",
              "  }\n",
              "  return element;\n",
              "}\n",
              "\n",
              "// Max number of bytes which will be uploaded at a time.\n",
              "const MAX_PAYLOAD_SIZE = 100 * 1024;\n",
              "\n",
              "function _uploadFiles(inputId, outputId) {\n",
              "  const steps = uploadFilesStep(inputId, outputId);\n",
              "  const outputElement = document.getElementById(outputId);\n",
              "  // Cache steps on the outputElement to make it available for the next call\n",
              "  // to uploadFilesContinue from Python.\n",
              "  outputElement.steps = steps;\n",
              "\n",
              "  return _uploadFilesContinue(outputId);\n",
              "}\n",
              "\n",
              "// This is roughly an async generator (not supported in the browser yet),\n",
              "// where there are multiple asynchronous steps and the Python side is going\n",
              "// to poll for completion of each step.\n",
              "// This uses a Promise to block the python side on completion of each step,\n",
              "// then passes the result of the previous step as the input to the next step.\n",
              "function _uploadFilesContinue(outputId) {\n",
              "  const outputElement = document.getElementById(outputId);\n",
              "  const steps = outputElement.steps;\n",
              "\n",
              "  const next = steps.next(outputElement.lastPromiseValue);\n",
              "  return Promise.resolve(next.value.promise).then((value) => {\n",
              "    // Cache the last promise value to make it available to the next\n",
              "    // step of the generator.\n",
              "    outputElement.lastPromiseValue = value;\n",
              "    return next.value.response;\n",
              "  });\n",
              "}\n",
              "\n",
              "/**\n",
              " * Generator function which is called between each async step of the upload\n",
              " * process.\n",
              " * @param {string} inputId Element ID of the input file picker element.\n",
              " * @param {string} outputId Element ID of the output display.\n",
              " * @return {!Iterable<!Object>} Iterable of next steps.\n",
              " */\n",
              "function* uploadFilesStep(inputId, outputId) {\n",
              "  const inputElement = document.getElementById(inputId);\n",
              "  inputElement.disabled = false;\n",
              "\n",
              "  const outputElement = document.getElementById(outputId);\n",
              "  outputElement.innerHTML = '';\n",
              "\n",
              "  const pickedPromise = new Promise((resolve) => {\n",
              "    inputElement.addEventListener('change', (e) => {\n",
              "      resolve(e.target.files);\n",
              "    });\n",
              "  });\n",
              "\n",
              "  const cancel = document.createElement('button');\n",
              "  inputElement.parentElement.appendChild(cancel);\n",
              "  cancel.textContent = 'Cancel upload';\n",
              "  const cancelPromise = new Promise((resolve) => {\n",
              "    cancel.onclick = () => {\n",
              "      resolve(null);\n",
              "    };\n",
              "  });\n",
              "\n",
              "  // Wait for the user to pick the files.\n",
              "  const files = yield {\n",
              "    promise: Promise.race([pickedPromise, cancelPromise]),\n",
              "    response: {\n",
              "      action: 'starting',\n",
              "    }\n",
              "  };\n",
              "\n",
              "  cancel.remove();\n",
              "\n",
              "  // Disable the input element since further picks are not allowed.\n",
              "  inputElement.disabled = true;\n",
              "\n",
              "  if (!files) {\n",
              "    return {\n",
              "      response: {\n",
              "        action: 'complete',\n",
              "      }\n",
              "    };\n",
              "  }\n",
              "\n",
              "  for (const file of files) {\n",
              "    const li = document.createElement('li');\n",
              "    li.append(span(file.name, {fontWeight: 'bold'}));\n",
              "    li.append(span(\n",
              "        `(${file.type || 'n/a'}) - ${file.size} bytes, ` +\n",
              "        `last modified: ${\n",
              "            file.lastModifiedDate ? file.lastModifiedDate.toLocaleDateString() :\n",
              "                                    'n/a'} - `));\n",
              "    const percent = span('0% done');\n",
              "    li.appendChild(percent);\n",
              "\n",
              "    outputElement.appendChild(li);\n",
              "\n",
              "    const fileDataPromise = new Promise((resolve) => {\n",
              "      const reader = new FileReader();\n",
              "      reader.onload = (e) => {\n",
              "        resolve(e.target.result);\n",
              "      };\n",
              "      reader.readAsArrayBuffer(file);\n",
              "    });\n",
              "    // Wait for the data to be ready.\n",
              "    let fileData = yield {\n",
              "      promise: fileDataPromise,\n",
              "      response: {\n",
              "        action: 'continue',\n",
              "      }\n",
              "    };\n",
              "\n",
              "    // Use a chunked sending to avoid message size limits. See b/62115660.\n",
              "    let position = 0;\n",
              "    do {\n",
              "      const length = Math.min(fileData.byteLength - position, MAX_PAYLOAD_SIZE);\n",
              "      const chunk = new Uint8Array(fileData, position, length);\n",
              "      position += length;\n",
              "\n",
              "      const base64 = btoa(String.fromCharCode.apply(null, chunk));\n",
              "      yield {\n",
              "        response: {\n",
              "          action: 'append',\n",
              "          file: file.name,\n",
              "          data: base64,\n",
              "        },\n",
              "      };\n",
              "\n",
              "      let percentDone = fileData.byteLength === 0 ?\n",
              "          100 :\n",
              "          Math.round((position / fileData.byteLength) * 100);\n",
              "      percent.textContent = `${percentDone}% done`;\n",
              "\n",
              "    } while (position < fileData.byteLength);\n",
              "  }\n",
              "\n",
              "  // All done.\n",
              "  yield {\n",
              "    response: {\n",
              "      action: 'complete',\n",
              "    }\n",
              "  };\n",
              "}\n",
              "\n",
              "scope.google = scope.google || {};\n",
              "scope.google.colab = scope.google.colab || {};\n",
              "scope.google.colab._files = {\n",
              "  _uploadFiles,\n",
              "  _uploadFilesContinue,\n",
              "};\n",
              "})(self);\n",
              "</script> "
            ],
            "text/plain": [
              "<IPython.core.display.HTML object>"
            ]
          },
          "metadata": {},
          "output_type": "display_data"
        },
        {
          "name": "stdout",
          "output_type": "stream",
          "text": [
            "Saving kaggle.json to kaggle.json\n"
          ]
        },
        {
          "data": {
            "text/plain": [
              "{'kaggle.json': b'{\"username\":\"minson0218\",\"key\":\"628656617db3bfef2e291dea28ffec75\"}'}"
            ]
          },
          "execution_count": 1,
          "metadata": {},
          "output_type": "execute_result"
        }
      ],
      "source": [
        "from google.colab import files\n",
        "files.upload()"
      ]
    },
    {
      "cell_type": "code",
      "execution_count": null,
      "metadata": {
        "id": "C9-RfT2H11NE"
      },
      "outputs": [],
      "source": [
        "!mkdir ~/.kaggle"
      ]
    },
    {
      "cell_type": "code",
      "execution_count": null,
      "metadata": {
        "id": "kmWzco45199A"
      },
      "outputs": [],
      "source": [
        "!cp kaggle.json ~/.kaggle/"
      ]
    },
    {
      "cell_type": "code",
      "execution_count": null,
      "metadata": {
        "id": "nLsPUmDd2BNo"
      },
      "outputs": [],
      "source": [
        "!chmod 600 ~/.kaggle/kaggle.json"
      ]
    },
    {
      "cell_type": "code",
      "execution_count": null,
      "metadata": {
        "colab": {
          "base_uri": "https://localhost:8080/"
        },
        "id": "ZIdK6vewKy8p",
        "outputId": "a2d4b49d-4b3f-49c4-edeb-3ffc7a72aa6b"
      },
      "outputs": [
        {
          "name": "stdout",
          "output_type": "stream",
          "text": [
            "Mounted at /content/drive\n"
          ]
        }
      ],
      "source": [
        "from google.colab import drive\n",
        "drive.mount('/content/drive')\n",
        "import os\n",
        "os.chdir('/content/drive/MyDrive/ML/final project')"
      ]
    },
    {
      "cell_type": "code",
      "execution_count": null,
      "metadata": {
        "id": "-6lNm2xXLTlE"
      },
      "outputs": [],
      "source": [
        "import numpy as np\n",
        "import pandas as pd\n",
        "from sklearn.svm import SVC, SVR\n",
        "from sklearn.metrics import accuracy_score\n",
        "import math\n",
        "import csv\n",
        "from sklearn.ensemble import RandomForestClassifier\n",
        "from sklearn.tree import DecisionTreeClassifier\n",
        "from imbalanced_ensemble.ensemble import OverBoostClassifier\n",
        "from imbalanced_ensemble.ensemble import SelfPacedEnsembleClassifier\n",
        "import kaggle\n",
        "from xgboost import XGBClassifier\n",
        "import os\n",
        "import random"
      ]
    },
    {
      "cell_type": "code",
      "execution_count": null,
      "metadata": {
        "id": "0regHOdBLUV4"
      },
      "outputs": [],
      "source": [
        "train_df = pd.read_csv('train.csv')\n",
        "train_df['attribute_0']= train_df['attribute_0'].replace(['material_7', 'material_5'],[7, 5])\n",
        "train_df['attribute_1']= train_df['attribute_1'].replace(['material_8', 'material_5', 'material_6'],[8, 5, 6])\n",
        "train_df.insert(1, 'measurement_5_wasmissing', 0)\n",
        "train_df.loc[pd.isna(train_df['measurement_5']),'measurement_5_wasmissing'] = 1\n",
        "train_df.insert(1, 'measurement_4_wasmissing', 0)\n",
        "train_df.loc[pd.isna(train_df['measurement_4']),'measurement_4_wasmissing'] = 1\n",
        "train_df.drop(['id', 'product_code'], axis=1, inplace=True)\n",
        "train_df = train_df.fillna(0)\n",
        "train_df_select = train_df[[\"loading\", \"measurement_17\", \"measurement_6\", \"measurement_4\", \"measurement_2\", \"measurement_5_wasmissing\", \"attribute_3\", \"attribute_1\", \"measurement_9\", \"measurement_4_wasmissing\", \"measurement_7\", \"attribute_0\", \"failure\"]]\n",
        "#train_df = train_df[[\"loading\", \"failure\"]]\n",
        "trainData = train_df.to_numpy()\n",
        "trainData_select = train_df_select.to_numpy()\n",
        "x_train = trainData[:, :-1]\n",
        "y_train = trainData[:, -1]\n",
        "x_train_select = trainData_select[:, :-1]\n",
        "y_train_select = trainData_select[:, -1]"
      ]
    },
    {
      "cell_type": "code",
      "execution_count": null,
      "metadata": {
        "colab": {
          "base_uri": "https://localhost:8080/"
        },
        "id": "dfdcnIMVLWoS",
        "outputId": "6805c9c4-46f4-4595-832c-ecd5538e4c40"
      },
      "outputs": [
        {
          "name": "stdout",
          "output_type": "stream",
          "text": [
            "[26570 26571 26572 26573 26574]\n"
          ]
        }
      ],
      "source": [
        "test_df = pd.read_csv('test.csv')\n",
        "test_df['attribute_0']= test_df['attribute_0'].replace(['material_7', 'material_5'],[7, 5])\n",
        "test_df['attribute_1']= test_df['attribute_1'].replace(['material_7', 'material_5', 'material_6'],[7, 5, 6])\n",
        "test_df.insert(1, 'measurement_5_wasmissing', 0)\n",
        "test_df.loc[pd.isna(test_df['measurement_5']),'measurement_5_wasmissing'] = 1\n",
        "test_df.insert(1, 'measurement_4_wasmissing', 0)\n",
        "test_df.loc[pd.isna(test_df['measurement_4']),'measurement_4_wasmissing'] = 1\n",
        "test_df = test_df.drop(['product_code'], axis=1)\n",
        "test_df = test_df.fillna(0)\n",
        "test_df_select = test_df[[\"loading\", \"measurement_17\", \"measurement_6\", \"measurement_4\", \"measurement_2\", \"measurement_5_wasmissing\", \"attribute_3\", \"attribute_1\", \"measurement_9\", \"measurement_4_wasmissing\", \"measurement_7\", \"attribute_0\"]]\n",
        "#test_df = test_df[[\"id\", \"loading\", \"attribute_3\"]]\n",
        "#test_df_no_id = test_df_no_id[\"loading\"]\n",
        "x_test_all = test_df.to_numpy()\n",
        "x_test_select = test_df_select.to_numpy()\n",
        "x_test = x_test_all[:, 1:]\n",
        "test_id = x_test_all[:, 0].astype(int)\n",
        "print(test_id[:5])"
      ]
    },
    {
      "cell_type": "code",
      "source": [
        "m = RUSBoostClassifier(base_estimator=DecisionTreeClassifier(max_depth=1), n_estimators=105, learning_rate= 0.049, random_state=89)\n",
        "m.fit(x_train, y_train)"
      ],
      "metadata": {
        "colab": {
          "base_uri": "https://localhost:8080/"
        },
        "id": "u8gaWMjTggAg",
        "outputId": "ea148e8d-b025-46cc-bd89-c55a842a8f8e"
      },
      "execution_count": 140,
      "outputs": [
        {
          "output_type": "execute_result",
          "data": {
            "text/plain": [
              "RUSBoostClassifier(base_estimator=DecisionTreeClassifier(max_depth=1),\n",
              "                   learning_rate=0.049, n_estimators=105, random_state=89)"
            ]
          },
          "metadata": {},
          "execution_count": 140
        }
      ]
    },
    {
      "cell_type": "code",
      "source": [
        "import pickle\n",
        "pickle.dump(m, open(\"try.pickle\", 'wb'))"
      ],
      "metadata": {
        "id": "4NZq4INZgyxn"
      },
      "execution_count": 144,
      "outputs": []
    },
    {
      "cell_type": "code",
      "source": [
        "with open('try.pickle', 'rb') as f:\n",
        "  saved_model = pickle.load(f)"
      ],
      "metadata": {
        "id": "M5ZII4Uhh6W0"
      },
      "execution_count": 145,
      "outputs": []
    },
    {
      "cell_type": "code",
      "execution_count": 150,
      "metadata": {
        "id": "Dn8271aaeotA"
      },
      "outputs": [],
      "source": [
        "from imbalanced_ensemble.ensemble import OverBoostClassifier\n",
        "from imbalanced_ensemble.ensemble import RUSBoostClassifier\n",
        "from xgboost import XGBClassifier\n",
        "def average(x_train, y_train, x_train_select, y_train_select, x_test, x_test_select):\n",
        "  model1 = RUSBoostClassifier(base_estimator=DecisionTreeClassifier(max_depth=1), n_estimators=110, learning_rate= 0.052, random_state=10)\n",
        "  model2 = RUSBoostClassifier(base_estimator=DecisionTreeClassifier(max_depth=1), n_estimators=105, learning_rate= 0.051, random_state=34)\n",
        "  #model3 = RUSBoostClassifier(base_estimator=DecisionTreeClassifier(max_depth=1), n_estimators=110, learning_rate= 0.049, random_state=10)\n",
        "  models_featureSelect = [model1, model2]\n",
        "\n",
        "  modelA = RUSBoostClassifier(base_estimator=DecisionTreeClassifier(max_depth=1), n_estimators=105, learning_rate= 0.049, random_state=89)\n",
        "  modelB = RUSBoostClassifier(base_estimator=DecisionTreeClassifier(max_depth=1), n_estimators=100, learning_rate= 0.051, random_state=11)\n",
        "  #modelC = RUSBoostClassifier(base_estimator=DecisionTreeClassifier(max_depth=1), n_estimators=110, learning_rate= 0.049, random_state=89)\n",
        "  models_missing = [modelA, modelB]\n",
        "\n",
        "  predictions = []\n",
        "  for model in models_missing:\n",
        "    model.fit(x_train, y_train)\n",
        "    predict = model.predict_proba(x_test)\n",
        "    predict = predict[:, 1]\n",
        "    predictions.append(predict)\n",
        "  \n",
        "  for model in models_featureSelect:\n",
        "    model.fit(x_train_select, y_train_select)\n",
        "    predict = model.predict_proba(x_test_select)\n",
        "    predict = predict[:, 1]\n",
        "    predictions.append(predict)\n",
        "\n",
        "  y_pred = sum(predictions) / len(predictions)\n",
        "  #print(y_pred.shape)\n",
        "  \n",
        "  submit = np.array([test_id, y_pred]).T\n",
        "  submit = submit.tolist()\n",
        "  for sub in submit:\n",
        "    sub[0] = int(sub[0])\n",
        "    sub[1] = float(sub[1])\n",
        "\n",
        "  csv_writer = csv.writer(open('submission.csv', 'w', newline=''))\n",
        "  csv_writer.writerow([\"id\", \"failure\"])\n",
        "  csv_writer.writerows(submit)\n",
        "  csv_writer = csv.writer(open('submission.csv', 'w', newline=''))\n",
        "  csv_writer.writerow([\"id\", \"failure\"])\n",
        "  csv_writer.writerows(submit)\n",
        "  \n",
        "  #message = f\"average of best 2\"\n",
        "  message = f\"best4\"\n",
        "  cmd = f\"kaggle competitions submit -c tabular-playground-series-aug-2022 -f submission.csv -m '{message}'\"\n",
        "  os.system(cmd)\n",
        "\n",
        "average(x_train, y_train, x_train_select, y_train_select, x_test, x_test_select)"
      ]
    },
    {
      "cell_type": "code",
      "execution_count": 134,
      "metadata": {
        "id": "jIhffKL7Koct"
      },
      "outputs": [],
      "source": [
        "from imbalanced_ensemble.ensemble import CompatibleBaggingClassifier\n",
        "from imbalanced_ensemble.ensemble import RUSBoostClassifier\n",
        "from imbalanced_ensemble.sampler.under_sampling import RandomUnderSampler \n",
        "from sklearn.ensemble import AdaBoostClassifier\n",
        "# In case the high accuracy(0.98) I get in adaboost, n_estimators = 100\n",
        "# I choose this adaboost model as my_model\n",
        "def train_XGB(x_train, y_train, n_estimators=110, learning_rate=0.071, random_state=0, max_depth=1, gamma=0, subsample=0.6, colsample_bytree=1, sampler_random_state=0):\n",
        "    best_model = XGBClassifier(n_estimators=n_estimators, learning_rate=learning_rate, random_state=random_state, max_depth=max_depth, gamma=gamma, subsample=subsample, colsample_bytree=colsample_bytree)\n",
        "    #best_model = XGBClassifier(n_estimators=n_estimators, learning_rate=learning_rate, random_state=random_state, max_depth=max_depth, gamma=gamma, subsample=subsample, colsample_bytree=colsample_bytree)\n",
        "    sampler = ADASYN(random_state=sampler_random_state)\n",
        "    X_res, y_res = sampler.fit_resample(x_train, y_train)\n",
        "    best_model.fit(X_res, y_res)\n",
        "    return best_model\n",
        "\n",
        "def train_boost(x_train, y_train, n_estimators=100, learning_rate=0.051, random_state=11, max_depth=1):\n",
        "    #best_model = BalanceCascadeClassifier(base_estimator=DecisionTreeClassifier(max_depth=max_depth), n_estimators=n_estimators, random_state=random_state)\n",
        "    best_model = RUSBoostClassifier(base_estimator=DecisionTreeClassifier(max_depth=max_depth), n_estimators=n_estimators, learning_rate= learning_rate, random_state=random_state)\n",
        "    best_model.fit(x_train, y_train)\n",
        "    return best_model\n",
        "    \n",
        "def train_bagging(x_train, y_train, n_estimators=100, learning_rate=1.0, max_samples=1, max_features=1, random_state=0):\n",
        "    #print(np.unique(y_train).size)\n",
        "    best_model = CompatibleBaggingClassifier(n_estimators=n_estimators, max_samples=max_samples, max_features=max_features, random_state=random_state)\n",
        "    best_model.fit(x_train, y_train)\n",
        "    return best_model"
      ]
    },
    {
      "cell_type": "code",
      "execution_count": 136,
      "metadata": {
        "id": "KVf4Inez3vxL"
      },
      "outputs": [],
      "source": [
        "def search(x_train, y_train, x_test, n_estimators=100, learning_rate=0.051, random_state=0, max_depth=1, max_samples=1, max_features=1, gamma=0, subsample=1, colsample_bytree=1, sampler_random_state=0):\n",
        "  #my_model = train_bagging(x_train, y_train, n_estimators=n_estimators, max_samples=max_samples, max_features=max_features, random_state=random_state)\n",
        "  #my_model = train_XGB(x_train, y_train, n_estimators=n_estimators, learning_rate=learning_rate, random_state=random_state, max_depth=max_depth, gamma=gamma, subsample=subsample, colsample_bytree=colsample_bytree, sampler_random_state=sampler_random_state)\n",
        "  my_model = train_boost(x_train, y_train, n_estimators=n_estimators, learning_rate=learning_rate, random_state=random_state, max_depth=1)\n",
        "  y_pred = my_model.predict_proba(x_test)\n",
        "  y_pred = y_pred[:, 1]\n",
        "  submit = np.array([test_id, y_pred]).T\n",
        "\n",
        "  submit = submit.tolist()\n",
        "  for sub in submit:\n",
        "    sub[0] = int(sub[0])\n",
        "    sub[1] = float(sub[1])\n",
        "\n",
        "  csv_writer = csv.writer(open('submission.csv', 'w', newline=''))\n",
        "  csv_writer.writerow([\"id\", \"failure\"])\n",
        "  csv_writer.writerows(submit)\n",
        "  csv_writer = csv.writer(open('submission.csv', 'w', newline=''))\n",
        "  csv_writer.writerow([\"id\", \"failure\"])\n",
        "  csv_writer.writerows(submit)\n",
        "  \n",
        "  #message = f\"CompatibleBaggingClassifier(n_estimators={n_estimators}, max_samples={max_samples}, max_features={max_features}, random_state={random_state})\"\n",
        "  #message = f\"XGBClassifier(n_estimators={n_estimators}, learning_rate={learning_rate}, random_state={random_state}, max_depth={max_depth}, gamma={gamma}, subsample={subsample}, colsample_bytree={colsample_bytree})\"\n",
        "  message = f\"RUSBoostClassifier(base_estimator=DecisionTreeClassifier(max_depth={max_depth}), n_estimators={n_estimators}, learning_rate={learning_rate}, random_state={random_state}), with feature select & missing 4,5\"\n",
        "  cmd = f\"kaggle competitions submit -c tabular-playground-series-aug-2022 -f submission.csv -m '{message}'\"\n",
        "  os.system(cmd)\n",
        "  #return cmd"
      ]
    },
    {
      "cell_type": "code",
      "execution_count": null,
      "metadata": {
        "id": "iGkJzVH0bLcC"
      },
      "outputs": [],
      "source": [
        "search(x_train, y_train, x_test)"
      ]
    },
    {
      "cell_type": "code",
      "source": [
        "print(np.unique(y_train).size)"
      ],
      "metadata": {
        "colab": {
          "base_uri": "https://localhost:8080/"
        },
        "id": "7JG5FCvM-FIg",
        "outputId": "ea2d45e3-215b-4f49-c0a4-67538736efc8"
      },
      "execution_count": 111,
      "outputs": [
        {
          "output_type": "stream",
          "name": "stdout",
          "text": [
            "2\n"
          ]
        }
      ]
    },
    {
      "cell_type": "code",
      "execution_count": 132,
      "metadata": {
        "colab": {
          "base_uri": "https://localhost:8080/"
        },
        "id": "vBq9RavjEkjj",
        "outputId": "5dae5a78-0835-4960-d1d6-21f811ab138e"
      },
      "outputs": [
        {
          "output_type": "stream",
          "name": "stdout",
          "text": [
            "2\n",
            "2\n",
            "2\n",
            "2\n",
            "2\n",
            "2\n",
            "2\n",
            "2\n"
          ]
        }
      ],
      "source": [
        "for n_estimators in [50, 70, 90, 95, 100, 105, 110, 120]:\n",
        "  #for lr in [1, 0.5, 0.1, 0.05, 0.01, 0.001 ,0.0001]:\n",
        "    for random_state in range(0, 1):\n",
        "      search(x_train, y_train, x_test, n_estimators=n_estimators, random_state=random_state)"
      ]
    },
    {
      "cell_type": "code",
      "execution_count": 137,
      "metadata": {
        "id": "FzMwnZSRGQTV"
      },
      "outputs": [],
      "source": [
        "for n_estimators in [110]:\n",
        "  for lr in [0.052]:\n",
        "    for random_state in range(100):\n",
        "      search(x_train_select, y_train_select, x_test_select, n_estimators=n_estimators, random_state=random_state, learning_rate=lr)"
      ]
    },
    {
      "cell_type": "code",
      "execution_count": null,
      "metadata": {
        "id": "n0Z6MbtoKoct"
      },
      "outputs": [],
      "source": [
        "#my_model = train_your_model(train_df)\n",
        "my_model = train_your_model(x_train, y_train)"
      ]
    },
    {
      "cell_type": "code",
      "execution_count": null,
      "metadata": {
        "id": "7kYoOFb-Koct"
      },
      "outputs": [],
      "source": [
        "y_pred = my_model.predict_proba(x_test)\n",
        "# np.save(\"y_pred\", y_pred)"
      ]
    },
    {
      "cell_type": "code",
      "execution_count": null,
      "metadata": {
        "colab": {
          "base_uri": "https://localhost:8080/"
        },
        "id": "34D2GI4Su4Fc",
        "outputId": "f71dbade-ecd4-4124-bb98-3dabe55095f9"
      },
      "outputs": [
        {
          "name": "stdout",
          "output_type": "stream",
          "text": [
            "(20775,)\n"
          ]
        }
      ],
      "source": [
        "y_pred = y_pred[:, 1]\n",
        "print(y_pred.shape)"
      ]
    },
    {
      "cell_type": "code",
      "execution_count": null,
      "metadata": {
        "colab": {
          "base_uri": "https://localhost:8080/"
        },
        "id": "rYb-sVS9Nf-5",
        "outputId": "98d5bb42-2aac-4e17-c07d-cb84f987c105"
      },
      "outputs": [
        {
          "name": "stdout",
          "output_type": "stream",
          "text": [
            "(20775, 2)\n"
          ]
        }
      ],
      "source": [
        "submit = np.array([test_id, y_pred]).T\n",
        "print(submit.shape)\n",
        "submit = submit.tolist()\n",
        "for sub in submit:\n",
        "  sub[0] = int(sub[0])\n",
        "  sub[1] = float(sub[1])"
      ]
    },
    {
      "cell_type": "code",
      "execution_count": null,
      "metadata": {
        "id": "oVswApoINufD"
      },
      "outputs": [],
      "source": [
        "csv_writer = csv.writer(open('submission.csv', 'w', newline=''))\n",
        "csv_writer.writerow([\"id\", \"failure\"])\n",
        "csv_writer.writerows(submit)\n",
        "csv_writer = csv.writer(open('submission.csv', 'w', newline=''))\n",
        "csv_writer.writerow([\"id\", \"failure\"])\n",
        "csv_writer.writerows(submit)"
      ]
    },
    {
      "cell_type": "code",
      "execution_count": null,
      "metadata": {
        "id": "RKUtQm-eKocs"
      },
      "outputs": [],
      "source": [
        "test_df = pd.read_csv('x_test.csv')\n",
        "x_test = test_df.to_numpy()"
      ]
    },
    {
      "cell_type": "code",
      "execution_count": null,
      "metadata": {
        "colab": {
          "base_uri": "https://localhost:8080/"
        },
        "id": "Nzkus6-aipQM",
        "outputId": "24a9bdb5-332e-4206-f9b3-30e522d275ea"
      },
      "outputs": [
        {
          "name": "stdout",
          "output_type": "stream",
          "text": [
            "Looking in indexes: https://pypi.org/simple, https://us-python.pkg.dev/colab-wheels/public/simple/\n",
            "Requirement already satisfied: xgboost in /usr/local/lib/python3.8/dist-packages (0.90)\n",
            "Requirement already satisfied: scipy in /usr/local/lib/python3.8/dist-packages (from xgboost) (1.7.3)\n",
            "Requirement already satisfied: numpy in /usr/local/lib/python3.8/dist-packages (from xgboost) (1.21.6)\n"
          ]
        }
      ],
      "source": [
        "pip install xgboost"
      ]
    },
    {
      "cell_type": "code",
      "execution_count": null,
      "metadata": {
        "id": "_OHEtImpnZpI"
      },
      "outputs": [],
      "source": [
        "from sklearn.linear_model import HuberRegressor, LinearRegression\n",
        "from sklearn.impute import KNNImputer"
      ]
    },
    {
      "cell_type": "code",
      "execution_count": null,
      "metadata": {
        "id": "xlwcgT6WlwXb"
      },
      "outputs": [],
      "source": [
        "def preprocessing(df_train, df_test):\n",
        "    data = pd.concat([df_train, df_test])\n",
        "    \n",
        "    data['m3_missing'] = data['measurement_3'].isnull().astype(np.int8)\n",
        "    data['m5_missing'] = data['measurement_5'].isnull().astype(np.int8)\n",
        "    data['area'] = data['attribute_2'] * data['attribute_3']\n",
        "    feature = [f for f in df_test.columns if f.startswith('measurement') or f =='loading']\n",
        "\n",
        "    full_fill_dict ={}\n",
        "    full_fill_dict['measurement_17'] = {\n",
        "        'A': ['measurement_5','measurement_6','measurement_8'],\n",
        "        'B': ['measurement_4','measurement_5','measurement_7'],\n",
        "        'C': ['measurement_5','measurement_7','measurement_8','measurement_9'],\n",
        "        'D': ['measurement_5','measurement_6','measurement_7','measurement_8'],\n",
        "        'E': ['measurement_4','measurement_5','measurement_6','measurement_8'],\n",
        "        'F': ['measurement_4','measurement_5','measurement_6','measurement_7'],\n",
        "        'G': ['measurement_4','measurement_6','measurement_8','measurement_9'],\n",
        "        'H': ['measurement_4','measurement_5','measurement_7','measurement_8','measurement_9'],\n",
        "        'I': ['measurement_3','measurement_7','measurement_8']\n",
        "    }\n",
        "\n",
        "    # collect the name of the next 10 best measurement columns sorted by correlation (except 17 already done above):\n",
        "    col = [col for col in df_test.columns if 'measurement' not in col]+ ['loading','m3_missing','m5_missing']\n",
        "    a = []\n",
        "    b =[]\n",
        "    for x in range(3,17):\n",
        "        corr = np.absolute(data.drop(col, axis=1).corr()[f'measurement_{x}']).sort_values(ascending=False)\n",
        "        a.append(np.round(np.sum(corr[1:4]),3)) # we add the 3 first lines of the correlation values to get the \"most correlated\"\n",
        "        b.append(f'measurement_{x}')\n",
        "    c = pd.DataFrame()\n",
        "    c['Selected columns'] = b\n",
        "    c['correlation total'] = a\n",
        "    c = c.sort_values(by = 'correlation total',ascending=False).reset_index(drop = True)\n",
        "    #print(f'Columns selected by correlation sum of the 3 first rows : ')\n",
        "    #display(c.head(10))\n",
        "\n",
        "    for i in range(10):\n",
        "        measurement_col = 'measurement_' + c.iloc[i,0][12:] # we select the next best correlated column \n",
        "        fill_dict = {}\n",
        "        for x in data.product_code.unique() : \n",
        "            corr = np.absolute(data[data.product_code == x].drop(col, axis=1).corr()[measurement_col]).sort_values(ascending=False)\n",
        "            measurement_col_dic = {}\n",
        "            measurement_col_dic[measurement_col] = corr[1:5].index.tolist()\n",
        "            fill_dict[x] = measurement_col_dic[measurement_col]\n",
        "        full_fill_dict[measurement_col] =fill_dict\n",
        "\n",
        "    feature = [f for f in data.columns if f.startswith('measurement') or f=='loading']\n",
        "    nullValue_cols = [col for col in df_train.columns if df_train[col].isnull().sum()!=0]\n",
        "\n",
        "    for code in data.product_code.unique():\n",
        "        for measurement_col in list(full_fill_dict.keys()):\n",
        "            tmp = data[data.product_code == code]\n",
        "            column = full_fill_dict[measurement_col][code]\n",
        "            tmp_train = tmp[column+[measurement_col]].dropna(how='any')\n",
        "            tmp_test = tmp[(tmp[column].isnull().sum(axis=1)==0)&(tmp[measurement_col].isnull())]\n",
        "\n",
        "            model = HuberRegressor(epsilon=1.9)\n",
        "            model.fit(tmp_train[column], tmp_train[measurement_col])\n",
        "            data.loc[(data.product_code==code)&(data[column].isnull().sum(axis=1)==0)&(data[measurement_col].isnull()),measurement_col] = model.predict(tmp_test[column])\n",
        "\n",
        "        # others NA columns:\n",
        "        NA = data.loc[data[\"product_code\"] == code,nullValue_cols ].isnull().sum().sum()\n",
        "        model1 = KNNImputer(n_neighbors=3)\n",
        "        data.loc[data.product_code==code, feature] = model1.fit_transform(data.loc[data.product_code==code, feature])\n",
        "\n",
        "    data['measurement_avg'] = data[[f'measurement_{i}' for i in range(3, 17)]].mean(axis=1)\n",
        "    df_train = data.iloc[:df_train.shape[0],:]\n",
        "    df_test = data.iloc[df_train.shape[0]:,:]\n",
        "    features = ['loading', 'attribute_0', 'measurement_17', 'measurement_0', 'measurement_1', 'measurement_2', 'area', 'm3_missing', 'm5_missing', 'measurement_avg']\n",
        "    \n",
        "    return df_train, df_test, features"
      ]
    },
    {
      "cell_type": "code",
      "execution_count": null,
      "metadata": {
        "id": "xmYtriuMl5dy"
      },
      "outputs": [],
      "source": [
        "train_df = pd.read_csv('train.csv')\n",
        "test_df = pd.read_csv('test.csv')\n",
        "train, test, features = preprocessing(train_df, test_df)\n",
        "print(features)\n",
        "target = train['failure'].copy()"
      ]
    },
    {
      "cell_type": "code",
      "execution_count": null,
      "metadata": {
        "id": "RYD9uOT7oUdw"
      },
      "outputs": [],
      "source": [
        "x_train = train[features].to_numpy()\n",
        "y_train = target.to_numpy()"
      ]
    },
    {
      "cell_type": "code",
      "execution_count": null,
      "metadata": {
        "id": "cBvoI_WskxB0"
      },
      "outputs": [],
      "source": [
        "#'reg_lambda': 0.002244159935105443, 'reg_alpha': 6.02990393702363e-08, 'feature_selector': 'cyclic'"
      ]
    },
    {
      "cell_type": "code",
      "execution_count": null,
      "metadata": {
        "id": "V_dE67KHKoct",
        "outputId": "966153c1-1ac5-4d47-de70-af808bae92f4"
      },
      "outputs": [
        {
          "name": "stdout",
          "output_type": "stream",
          "text": [
            "Accuracy for my_model 0.98\n"
          ]
        }
      ],
      "source": [
        "#y_pred = my_model.predict(x_val)\n",
        "#print(f'Accuracy for my_model {accuracy_score(y_val, y_pred)}')"
      ]
    }
  ],
  "metadata": {
    "colab": {
      "provenance": [],
      "include_colab_link": true
    },
    "kernelspec": {
      "display_name": "Python 3",
      "language": "python",
      "name": "python3"
    },
    "language_info": {
      "codemirror_mode": {
        "name": "ipython",
        "version": 3
      },
      "file_extension": ".py",
      "mimetype": "text/x-python",
      "name": "python",
      "nbconvert_exporter": "python",
      "pygments_lexer": "ipython3",
      "version": "3.8.3"
    },
    "vscode": {
      "interpreter": {
        "hash": "8c9afcc29181526987d0b385fb14ac7bec129a3a1f159e207d0db8e842e65205"
      }
    }
  },
  "nbformat": 4,
  "nbformat_minor": 0
}