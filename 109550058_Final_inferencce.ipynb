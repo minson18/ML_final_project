{
  "nbformat": 4,
  "nbformat_minor": 0,
  "metadata": {
    "colab": {
      "provenance": [],
      "authorship_tag": "ABX9TyPjR5rG6bVrwaMiPXkE7sjm",
      "include_colab_link": true
    },
    "kernelspec": {
      "name": "python3",
      "display_name": "Python 3"
    },
    "language_info": {
      "name": "python"
    }
  },
  "cells": [
    {
      "cell_type": "markdown",
      "metadata": {
        "id": "view-in-github",
        "colab_type": "text"
      },
      "source": [
        "<a href=\"https://colab.research.google.com/github/minson18/ML_final_project/blob/main/109550058_Final_inferencce.ipynb\" target=\"_parent\"><img src=\"https://colab.research.google.com/assets/colab-badge.svg\" alt=\"Open In Colab\"/></a>"
      ]
    },
    {
      "cell_type": "markdown",
      "source": [
        "以下這段 pip install 執行完要按下輸出區的 RESTART RUNTIME，再繼續往下執行。"
      ],
      "metadata": {
        "id": "-Ei5toVKn1wv"
      }
    },
    {
      "cell_type": "code",
      "execution_count": null,
      "metadata": {
        "id": "0SChJyknjtpc"
      },
      "outputs": [],
      "source": [
        "pip install imbalanced-ensemble"
      ]
    },
    {
      "cell_type": "code",
      "source": [
        "from google.colab import drive\n",
        "drive.mount('/content/drive')\n",
        "import os\n",
        "\n",
        "# Root Path\n",
        "os.chdir('/content/drive/MyDrive/ML/final project')\n",
        "\n",
        "TEST_PATH = \"test.csv\"\n",
        "MODEL_PATH = \"models\""
      ],
      "metadata": {
        "colab": {
          "base_uri": "https://localhost:8080/"
        },
        "id": "5fnMkbXln50D",
        "outputId": "0575f735-c7ff-445c-eb27-61bb7a4fc5de"
      },
      "execution_count": null,
      "outputs": [
        {
          "output_type": "stream",
          "name": "stdout",
          "text": [
            "Mounted at /content/drive\n"
          ]
        }
      ]
    },
    {
      "cell_type": "code",
      "source": [
        "import numpy as np\n",
        "import pandas as pd\n",
        "#from sklearn.svm import SVC, SVR\n",
        "from sklearn.metrics import accuracy_score\n",
        "import math\n",
        "import csv\n",
        "#from sklearn.ensemble import RandomForestClassifier\n",
        "from sklearn.tree import DecisionTreeClassifier\n",
        "#from imbalanced_ensemble.ensemble import OverBoostClassifier\n",
        "#from imbalanced_ensemble.ensemble import SelfPacedEnsembleClassifier\n",
        "#import kaggle\n",
        "#from xgboost import XGBClassifier"
      ],
      "metadata": {
        "id": "KhGx9obpn8ZI"
      },
      "execution_count": null,
      "outputs": []
    },
    {
      "cell_type": "code",
      "source": [
        "# Pre-proccessing Testing data\n",
        "test_df = pd.read_csv(TEST_PATH)\n",
        "\n",
        "# translate attribute_0, attribute_1 from string to int\n",
        "test_df['attribute_0'] = test_df['attribute_0'].replace(\n",
        "  ['material_7', 'material_5'], [7, 5])\n",
        "test_df['attribute_1'] = test_df['attribute_1'].replace(\n",
        "  ['material_7', 'material_5', 'material_6'],[7, 5, 6])\n",
        "\n",
        "# add column measurement_5_wasmissing, measurement_4_wasmissing\n",
        "test_df.insert(1, 'measurement_5_wasmissing', 0)\n",
        "test_df.loc[pd.isna(test_df['measurement_5']),'measurement_5_wasmissing'] = 1\n",
        "test_df.insert(1, 'measurement_4_wasmissing', 0)\n",
        "test_df.loc[pd.isna(test_df['measurement_4']),'measurement_4_wasmissing'] = 1\n",
        "\n",
        "# drop redundant columns\n",
        "test_df = test_df.drop(['product_code'], axis=1)\n",
        "# fill Nan\n",
        "test_df = test_df.fillna(0)\n",
        "\n",
        "# first dataset with selected features\n",
        "test_df_select = test_df[[\n",
        "  \"loading\", \"measurement_17\", \"measurement_6\", \"measurement_4\", \"measurement_2\", \n",
        "  \"measurement_5_wasmissing\", \"attribute_3\", \"attribute_1\", \"measurement_9\", \n",
        "  \"measurement_4_wasmissing\", \"measurement_7\", \"attribute_0\"\n",
        "  ]]\n",
        "x_test_select = test_df_select.to_numpy()\n",
        "\n",
        "# second dataset with all features\n",
        "testData = test_df.to_numpy()\n",
        "x_test = testData[:, 1:]\n",
        "\n",
        "test_id = testData[:, 0].astype(int)"
      ],
      "metadata": {
        "id": "GWoQ0YAPoQa_"
      },
      "execution_count": null,
      "outputs": []
    },
    {
      "cell_type": "code",
      "source": [
        "from imbalanced_ensemble.ensemble import RUSBoostClassifier\n",
        "import pickle\n",
        "\n",
        "def test(x_test, x_test_select):\n",
        "\n",
        "  # List models names with two different dataset\n",
        "  models_select = [\"model_select_A\", \"model_select_B\"]\n",
        "  models = [\"model_A\", \"model_B\"]\n",
        "\n",
        "  # Predict probability using each model\n",
        "  predictions = [] # all predict results\n",
        "  for model_name in models_select:\n",
        "    with open(MODEL_PATH + \"/\" + model_name + '.pickle', 'rb') as f:\n",
        "      model = pickle.load(f)\n",
        "\n",
        "    predict = model.predict_proba(x_test_select)\n",
        "    predict = predict[:, 1]\n",
        "    predictions.append(predict)\n",
        "  \n",
        "  for model_name in models:\n",
        "    with open(model_name + '.pickle', 'rb') as f:\n",
        "      model = pickle.load(f)\n",
        "      \n",
        "    predict = model.predict_proba(x_test)\n",
        "    predict = predict[:, 1]\n",
        "    predictions.append(predict)\n",
        "\n",
        "  # Get the average of 4 models' prediction\n",
        "  y_pred = sum(predictions) / len(predictions)\n",
        "  \n",
        "  # Concatenate id and failure into submit\n",
        "  submit = np.array([test_id, y_pred]).T\n",
        "  submit = submit.tolist()\n",
        "  # Check each datatype in submit\n",
        "  for sub in submit:\n",
        "    sub[0] = int(sub[0])\n",
        "    sub[1] = float(sub[1])\n",
        "\n",
        "  # Write csv double times to make sure the submission is correct,\n",
        "  # in case some unknown bug when write csv in Colab.\n",
        "  csv_writer = csv.writer(open('109550058.csv', 'w', newline=''))\n",
        "  csv_writer.writerow([\"id\", \"failure\"])\n",
        "  csv_writer.writerows(submit)\n",
        "  csv_writer = csv.writer(open('109550058.csv', 'w', newline=''))\n",
        "  csv_writer.writerow([\"id\", \"failure\"])\n",
        "  csv_writer.writerows(submit)"
      ],
      "metadata": {
        "id": "FLzgCHvLtTOi"
      },
      "execution_count": null,
      "outputs": []
    },
    {
      "cell_type": "code",
      "source": [
        "test(x_test, x_test_select)"
      ],
      "metadata": {
        "id": "e2LJqW5nyxTX"
      },
      "execution_count": null,
      "outputs": []
    }
  ]
}